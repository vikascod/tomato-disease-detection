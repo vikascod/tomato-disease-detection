{
  "nbformat": 4,
  "nbformat_minor": 0,
  "metadata": {
    "colab": {
      "provenance": [],
      "gpuType": "T4"
    },
    "kernelspec": {
      "name": "python3",
      "display_name": "Python 3"
    },
    "language_info": {
      "name": "python"
    },
    "accelerator": "GPU"
  },
  "cells": [
    {
      "cell_type": "code",
      "source": [
        "!pip install opendatasets\n",
        "!pip install split-folders"
      ],
      "metadata": {
        "id": "k3dpMYpIPSSP",
        "colab": {
          "base_uri": "https://localhost:8080/"
        },
        "outputId": "5e1fc700-4112-4279-94af-337b3a0cd1b3"
      },
      "execution_count": 1,
      "outputs": [
        {
          "output_type": "stream",
          "name": "stdout",
          "text": [
            "Collecting opendatasets\n",
            "  Downloading opendatasets-0.1.22-py3-none-any.whl (15 kB)\n",
            "Requirement already satisfied: tqdm in /usr/local/lib/python3.10/dist-packages (from opendatasets) (4.66.1)\n",
            "Requirement already satisfied: kaggle in /usr/local/lib/python3.10/dist-packages (from opendatasets) (1.5.16)\n",
            "Requirement already satisfied: click in /usr/local/lib/python3.10/dist-packages (from opendatasets) (8.1.7)\n",
            "Requirement already satisfied: six>=1.10 in /usr/local/lib/python3.10/dist-packages (from kaggle->opendatasets) (1.16.0)\n",
            "Requirement already satisfied: certifi in /usr/local/lib/python3.10/dist-packages (from kaggle->opendatasets) (2023.7.22)\n",
            "Requirement already satisfied: python-dateutil in /usr/local/lib/python3.10/dist-packages (from kaggle->opendatasets) (2.8.2)\n",
            "Requirement already satisfied: requests in /usr/local/lib/python3.10/dist-packages (from kaggle->opendatasets) (2.31.0)\n",
            "Requirement already satisfied: python-slugify in /usr/local/lib/python3.10/dist-packages (from kaggle->opendatasets) (8.0.1)\n",
            "Requirement already satisfied: urllib3 in /usr/local/lib/python3.10/dist-packages (from kaggle->opendatasets) (2.0.4)\n",
            "Requirement already satisfied: bleach in /usr/local/lib/python3.10/dist-packages (from kaggle->opendatasets) (6.0.0)\n",
            "Requirement already satisfied: webencodings in /usr/local/lib/python3.10/dist-packages (from bleach->kaggle->opendatasets) (0.5.1)\n",
            "Requirement already satisfied: text-unidecode>=1.3 in /usr/local/lib/python3.10/dist-packages (from python-slugify->kaggle->opendatasets) (1.3)\n",
            "Requirement already satisfied: charset-normalizer<4,>=2 in /usr/local/lib/python3.10/dist-packages (from requests->kaggle->opendatasets) (3.2.0)\n",
            "Requirement already satisfied: idna<4,>=2.5 in /usr/local/lib/python3.10/dist-packages (from requests->kaggle->opendatasets) (3.4)\n",
            "Installing collected packages: opendatasets\n",
            "Successfully installed opendatasets-0.1.22\n",
            "Collecting split-folders\n",
            "  Downloading split_folders-0.5.1-py3-none-any.whl (8.4 kB)\n",
            "Installing collected packages: split-folders\n",
            "Successfully installed split-folders-0.5.1\n"
          ]
        }
      ]
    },
    {
      "cell_type": "code",
      "source": [
        "import opendatasets as op\n",
        "\n",
        "url = 'https://www.kaggle.com/datasets/arjuntejaswi/plant-village'\n",
        "\n",
        "op.download(url)"
      ],
      "metadata": {
        "colab": {
          "base_uri": "https://localhost:8080/"
        },
        "id": "u3jvjtkEfipd",
        "outputId": "810d7e10-517f-4563-cf21-bdcee5ba6154"
      },
      "execution_count": 2,
      "outputs": [
        {
          "output_type": "stream",
          "name": "stdout",
          "text": [
            "Downloading plant-village.zip to ./plant-village\n"
          ]
        },
        {
          "output_type": "stream",
          "name": "stderr",
          "text": [
            "100%|██████████| 329M/329M [00:03<00:00, 88.8MB/s]\n"
          ]
        },
        {
          "output_type": "stream",
          "name": "stdout",
          "text": [
            "\n"
          ]
        }
      ]
    },
    {
      "cell_type": "code",
      "source": [
        "import os\n",
        "\n",
        "os.makedirs('PlantVillage')"
      ],
      "metadata": {
        "id": "0cvoJJ6-fsaF"
      },
      "execution_count": 3,
      "outputs": []
    },
    {
      "cell_type": "code",
      "source": [
        "import shutil\n",
        "\n",
        "src = '/content/plant-village/PlantVillage/Tomato_Bacterial_spot'\n",
        "des = '/content/PlantVillage'\n",
        "shutil.move(src, des)\n",
        "src = '/content/plant-village/PlantVillage/Tomato_Early_blight'\n",
        "des = '/content/PlantVillage'\n",
        "shutil.move(src, des)\n",
        "src = '/content/plant-village/PlantVillage/Tomato_Late_blight'\n",
        "des = '/content/PlantVillage'\n",
        "shutil.move(src, des)\n",
        "src = '/content/plant-village/PlantVillage/Tomato_Leaf_Mold'\n",
        "des = '/content/PlantVillage'\n",
        "shutil.move(src, des)\n",
        "src = '/content/plant-village/PlantVillage/Tomato_Septoria_leaf_spot'\n",
        "des = '/content/PlantVillage'\n",
        "shutil.move(src, des)\n",
        "src = '/content/plant-village/PlantVillage/Tomato_Spider_mites_Two_spotted_spider_mite'\n",
        "des = '/content/PlantVillage'\n",
        "shutil.move(src, des)\n",
        "src = '/content/plant-village/PlantVillage/Tomato__Target_Spot'\n",
        "des = '/content/PlantVillage'\n",
        "shutil.move(src, des)\n",
        "src = '/content/plant-village/PlantVillage/Tomato__Tomato_YellowLeaf__Curl_Virus'\n",
        "des = '/content/PlantVillage'\n",
        "shutil.move(src, des)\n",
        "src = '/content/plant-village/PlantVillage/Tomato__Tomato_mosaic_virus'\n",
        "des = '/content/PlantVillage'\n",
        "shutil.move(src, des)\n",
        "src = '/content/plant-village/PlantVillage/Tomato_healthy'\n",
        "des = '/content/PlantVillage'\n",
        "shutil.move(src, des)"
      ],
      "metadata": {
        "colab": {
          "base_uri": "https://localhost:8080/",
          "height": 36
        },
        "id": "yDqQr_fMf7FW",
        "outputId": "c7334af7-16df-4885-cba7-5f3225f0ee03"
      },
      "execution_count": 4,
      "outputs": [
        {
          "output_type": "execute_result",
          "data": {
            "text/plain": [
              "'/content/PlantVillage/Tomato_healthy'"
            ],
            "application/vnd.google.colaboratory.intrinsic+json": {
              "type": "string"
            }
          },
          "metadata": {},
          "execution_count": 4
        }
      ]
    },
    {
      "cell_type": "code",
      "source": [
        "!split_folders --output dataset --ratio 0.7 0.1 0.2 -- PlantVillage"
      ],
      "metadata": {
        "colab": {
          "base_uri": "https://localhost:8080/"
        },
        "id": "cIomamwJhLR5",
        "outputId": "a66f10cf-688a-4b12-ac65-328cba8c3aa9"
      },
      "execution_count": 5,
      "outputs": [
        {
          "output_type": "stream",
          "name": "stdout",
          "text": [
            "Copying files: 16012 files [00:02, 5502.28 files/s]\n"
          ]
        }
      ]
    },
    {
      "cell_type": "code",
      "source": [
        "import numpy as np\n",
        "import pandas as pd\n",
        "import matplotlib.pyplot as plt\n",
        "import tensorflow as tf\n",
        "from tensorflow import keras\n",
        "from tensorflow.keras.preprocessing.image import ImageDataGenerator"
      ],
      "metadata": {
        "id": "-q6Iko8mhvQ1"
      },
      "execution_count": 6,
      "outputs": []
    },
    {
      "cell_type": "code",
      "source": [
        "# Data augmentation\n",
        "data_gen = ImageDataGenerator(rescale=1./255,\n",
        "                              shear_range=0.2,\n",
        "                              zoom_range=0.2,\n",
        "                              rotation_range=10,\n",
        "                              horizontal_flip=True\n",
        "                              )"
      ],
      "metadata": {
        "id": "qNb9Kk1CjOEM"
      },
      "execution_count": 7,
      "outputs": []
    },
    {
      "cell_type": "code",
      "source": [
        "# Training\n",
        "train_generator = data_gen.flow_from_directory('/content/dataset/train',\n",
        "                                               target_size=(256, 256),\n",
        "                                               batch_size=32,\n",
        "                                               class_mode='categorical'\n",
        "                                               )"
      ],
      "metadata": {
        "colab": {
          "base_uri": "https://localhost:8080/"
        },
        "id": "CJkNko0PkaYZ",
        "outputId": "36d2a263-5902-4610-f207-8770b491bdce"
      },
      "execution_count": 8,
      "outputs": [
        {
          "output_type": "stream",
          "name": "stdout",
          "text": [
            "Found 11203 images belonging to 10 classes.\n"
          ]
        }
      ]
    },
    {
      "cell_type": "code",
      "source": [
        "# Validation\n",
        "validation_generator = data_gen.flow_from_directory('/content/dataset/val',\n",
        "                                                    target_size=(256, 256),\n",
        "                                                    batch_size=32,\n",
        "                                                    class_mode='categorical'\n",
        "                                                    )"
      ],
      "metadata": {
        "colab": {
          "base_uri": "https://localhost:8080/"
        },
        "id": "aG5RG8p_k4pz",
        "outputId": "1ec72e2a-8ddf-42a3-efab-ce447fd34084"
      },
      "execution_count": 9,
      "outputs": [
        {
          "output_type": "stream",
          "name": "stdout",
          "text": [
            "Found 1597 images belonging to 10 classes.\n"
          ]
        }
      ]
    },
    {
      "cell_type": "code",
      "source": [
        "# Testing\n",
        "test_generator = data_gen.flow_from_directory('/content/dataset/test',\n",
        "                                                target_size=(256, 256),\n",
        "                                                batch_size=32,\n",
        "                                                class_mode='categorical'\n",
        "                                                    )\n"
      ],
      "metadata": {
        "colab": {
          "base_uri": "https://localhost:8080/"
        },
        "id": "tm0DeBhBlphh",
        "outputId": "8d28234f-90b8-4a36-d93c-909b308315b4"
      },
      "execution_count": 10,
      "outputs": [
        {
          "output_type": "stream",
          "name": "stdout",
          "text": [
            "Found 3211 images belonging to 10 classes.\n"
          ]
        }
      ]
    },
    {
      "cell_type": "markdown",
      "source": [
        "**Building CNN**"
      ],
      "metadata": {
        "id": "bPdl2hAumELF"
      }
    },
    {
      "cell_type": "code",
      "source": [
        "model = keras.Sequential([\n",
        "    keras.layers.Conv2D(32, kernel_size=(3, 3), activation='relu', input_shape=(256, 256, 3)),\n",
        "    keras.layers.MaxPooling2D(2, 2),\n",
        "    keras.layers.Conv2D(64, kernel_size=(3, 3), activation='relu'),\n",
        "    keras.layers.MaxPooling2D(2, 2),\n",
        "    keras.layers.Conv2D(64, kernel_size=(3, 3), activation='relu'),\n",
        "    keras.layers.MaxPooling2D(2, 2),\n",
        "    keras.layers.Conv2D(64, kernel_size=(3, 3), activation='relu'),\n",
        "    keras.layers.MaxPooling2D(2, 2),\n",
        "    keras.layers.Conv2D(64, kernel_size=(3, 3), activation='relu'),\n",
        "    keras.layers.MaxPooling2D(2, 2),\n",
        "    keras.layers.Conv2D(64, kernel_size=(3, 3), activation='relu'),\n",
        "    keras.layers.MaxPooling2D(2, 2),\n",
        "    keras.layers.Flatten(),\n",
        "    keras.layers.Dense(64, activation='relu'),\n",
        "    keras.layers.Dense(10, activation='softmax'),\n",
        "])"
      ],
      "metadata": {
        "id": "_70lm2g6lw3s"
      },
      "execution_count": 11,
      "outputs": []
    },
    {
      "cell_type": "code",
      "source": [
        "model.summary()"
      ],
      "metadata": {
        "colab": {
          "base_uri": "https://localhost:8080/"
        },
        "id": "KwGEoE05ngpK",
        "outputId": "d3071139-7e5d-4cf2-9f3e-8c2b16daf7a8"
      },
      "execution_count": 12,
      "outputs": [
        {
          "output_type": "stream",
          "name": "stdout",
          "text": [
            "Model: \"sequential\"\n",
            "_________________________________________________________________\n",
            " Layer (type)                Output Shape              Param #   \n",
            "=================================================================\n",
            " conv2d (Conv2D)             (None, 254, 254, 32)      896       \n",
            "                                                                 \n",
            " max_pooling2d (MaxPooling2D  (None, 127, 127, 32)     0         \n",
            " )                                                               \n",
            "                                                                 \n",
            " conv2d_1 (Conv2D)           (None, 125, 125, 64)      18496     \n",
            "                                                                 \n",
            " max_pooling2d_1 (MaxPooling  (None, 62, 62, 64)       0         \n",
            " 2D)                                                             \n",
            "                                                                 \n",
            " conv2d_2 (Conv2D)           (None, 60, 60, 64)        36928     \n",
            "                                                                 \n",
            " max_pooling2d_2 (MaxPooling  (None, 30, 30, 64)       0         \n",
            " 2D)                                                             \n",
            "                                                                 \n",
            " conv2d_3 (Conv2D)           (None, 28, 28, 64)        36928     \n",
            "                                                                 \n",
            " max_pooling2d_3 (MaxPooling  (None, 14, 14, 64)       0         \n",
            " 2D)                                                             \n",
            "                                                                 \n",
            " conv2d_4 (Conv2D)           (None, 12, 12, 64)        36928     \n",
            "                                                                 \n",
            " max_pooling2d_4 (MaxPooling  (None, 6, 6, 64)         0         \n",
            " 2D)                                                             \n",
            "                                                                 \n",
            " conv2d_5 (Conv2D)           (None, 4, 4, 64)          36928     \n",
            "                                                                 \n",
            " max_pooling2d_5 (MaxPooling  (None, 2, 2, 64)         0         \n",
            " 2D)                                                             \n",
            "                                                                 \n",
            " flatten (Flatten)           (None, 256)               0         \n",
            "                                                                 \n",
            " dense (Dense)               (None, 64)                16448     \n",
            "                                                                 \n",
            " dense_1 (Dense)             (None, 10)                650       \n",
            "                                                                 \n",
            "=================================================================\n",
            "Total params: 184,202\n",
            "Trainable params: 184,202\n",
            "Non-trainable params: 0\n",
            "_________________________________________________________________\n"
          ]
        }
      ]
    },
    {
      "cell_type": "code",
      "source": [
        "model.compile(optimizer='adam',\n",
        "              loss='categorical_crossentropy',\n",
        "              metrics=['accuracy'])"
      ],
      "metadata": {
        "id": "2Qt3e5b2nlvM"
      },
      "execution_count": 13,
      "outputs": []
    },
    {
      "cell_type": "code",
      "source": [
        "history = model.fit(train_generator,\n",
        "          validation_data=validation_generator,\n",
        "          epochs=10,\n",
        "          steps_per_epoch=len(train_generator),\n",
        "          validation_steps=len(validation_generator),\n",
        "          verbose=1)"
      ],
      "metadata": {
        "id": "zVXoYbbtoFNU",
        "colab": {
          "base_uri": "https://localhost:8080/"
        },
        "outputId": "0d96e53b-5619-4841-c577-c3764c9a58e4"
      },
      "execution_count": 14,
      "outputs": [
        {
          "output_type": "stream",
          "name": "stdout",
          "text": [
            "Epoch 1/10\n",
            "351/351 [==============================] - 210s 553ms/step - loss: 1.5904 - accuracy: 0.4335 - val_loss: 1.1160 - val_accuracy: 0.6230\n",
            "Epoch 2/10\n",
            "351/351 [==============================] - 190s 541ms/step - loss: 0.9948 - accuracy: 0.6568 - val_loss: 0.9724 - val_accuracy: 0.6662\n",
            "Epoch 3/10\n",
            "351/351 [==============================] - 187s 532ms/step - loss: 0.7305 - accuracy: 0.7461 - val_loss: 0.6018 - val_accuracy: 0.7896\n",
            "Epoch 4/10\n",
            "351/351 [==============================] - 184s 525ms/step - loss: 0.5615 - accuracy: 0.8057 - val_loss: 0.5951 - val_accuracy: 0.7965\n",
            "Epoch 5/10\n",
            "351/351 [==============================] - 183s 522ms/step - loss: 0.4908 - accuracy: 0.8275 - val_loss: 0.4828 - val_accuracy: 0.8397\n",
            "Epoch 6/10\n",
            "351/351 [==============================] - 186s 531ms/step - loss: 0.4344 - accuracy: 0.8489 - val_loss: 0.3961 - val_accuracy: 0.8647\n",
            "Epoch 7/10\n",
            "351/351 [==============================] - 184s 524ms/step - loss: 0.3701 - accuracy: 0.8705 - val_loss: 0.4566 - val_accuracy: 0.8359\n",
            "Epoch 8/10\n",
            "351/351 [==============================] - 180s 513ms/step - loss: 0.3226 - accuracy: 0.8838 - val_loss: 0.3877 - val_accuracy: 0.8748\n",
            "Epoch 9/10\n",
            "351/351 [==============================] - 181s 517ms/step - loss: 0.2979 - accuracy: 0.8975 - val_loss: 0.2670 - val_accuracy: 0.9092\n",
            "Epoch 10/10\n",
            "351/351 [==============================] - 183s 521ms/step - loss: 0.2499 - accuracy: 0.9117 - val_loss: 0.2634 - val_accuracy: 0.9048\n"
          ]
        }
      ]
    },
    {
      "cell_type": "code",
      "source": [
        "# Evaluate\n",
        "loss, accuracy = model.evaluate(test_generator)"
      ],
      "metadata": {
        "id": "VJJSrlWcpF66",
        "colab": {
          "base_uri": "https://localhost:8080/"
        },
        "outputId": "2e15c704-843f-4ed6-af33-5bf4c93de18f"
      },
      "execution_count": 15,
      "outputs": [
        {
          "output_type": "stream",
          "name": "stdout",
          "text": [
            "101/101 [==============================] - 45s 439ms/step - loss: 0.2931 - accuracy: 0.9144\n"
          ]
        }
      ]
    },
    {
      "cell_type": "code",
      "source": [
        "# Plot the accuracy\n",
        "plt.plot(history.history['accuracy'], label='training accuracy')\n",
        "plt.plot(history.history['val_accuracy'], label='validation accuracy')\n",
        "plt.legend()\n",
        "plt.show()\n",
        "\n",
        "# Plot the loss\n",
        "plt.plot(history.history['loss'], label='training loss')\n",
        "plt.plot(history.history['val_loss'], label='validation loss')\n",
        "plt.legend()\n",
        "plt.show()"
      ],
      "metadata": {
        "id": "I-5CQHd-uNuP",
        "colab": {
          "base_uri": "https://localhost:8080/",
          "height": 843
        },
        "outputId": "ded99b27-110a-4690-e1fd-182762e45d93"
      },
      "execution_count": 16,
      "outputs": [
        {
          "output_type": "display_data",
          "data": {
            "text/plain": [
              "<Figure size 640x480 with 1 Axes>"
            ],
            "image/png": "[encoded data removed]"
          },
          "metadata": {}
        },
        {
          "output_type": "display_data",
          "data": {
            "text/plain": [
              "<Figure size 640x480 with 1 Axes>"
            ],
            "image/png": "[encoded data removed]"
          },
          "metadata": {}
        }
      ]
    },
    {
      "cell_type": "code",
      "source": [
        "model.save('tomato_disease.h5')"
      ],
      "metadata": {
        "id": "bOKHKLdbfKvv"
      },
      "execution_count": 17,
      "outputs": []
    },
    {
      "cell_type": "markdown",
      "source": [
        "**Make Single prediction**"
      ],
      "metadata": {
        "id": "McTO3dk7fQzC"
      }
    },
    {
      "cell_type": "code",
      "source": [
        "from keras.utils import load_img, img_to_array\n",
        "\n",
        "#Image paht\n",
        "img_path = '/content/PlantVillage/Tomato_Early_blight/0114f7b3-7f56-4bef-aa47-7a82da142d4b___RS_Erly.B 7437.JPG'\n",
        "\n",
        "# load image\n",
        "img = load_img(img_path, target_size=(256, 256))\n",
        "\n",
        "# convert image into areay\n",
        "img_array = img_to_array(img)\n",
        "\n",
        "# Normalize pixel values to [0, 1]\n",
        "img = img_array/255\n",
        "\n",
        "# Add batch dimension\n",
        "img = np.expand_dims(img, axis=0)\n",
        "\n",
        "prediction  = model.predict(img)\n",
        "\n",
        "class_labels = ['Tomato_Bacterial_spot', 'Tomato_Early_blight', 'Tomato_Late_blight', 'Tomato_Leaf_Mold',\n",
        "                'Tomato_Septoria_leaf_spot', 'Tomato_Spider_mites_Two_spotted_spider_mite',\n",
        "                'Tomato__Target_Spot', 'Tomato__Tomato_YellowLeaf__Curl_Virus', 'Tomato__Tomato_mosaic_virus',\n",
        "                'Tomato_healthy']\n",
        "pred_index = np.argmax(prediction)\n",
        "confidence = prediction[0][pred_index]\n",
        "\n",
        "predicted_class = class_labels[pred_index]\n",
        "\n",
        "print(f\"Predicted class: {predicted_class}\")\n",
        "print(f\"Confidence: {confidence:.2%}\")"
      ],
      "metadata": {
        "colab": {
          "base_uri": "https://localhost:8080/"
        },
        "id": "dIyC2cR4fP3c",
        "outputId": "24a7ae0c-951b-4ca1-af96-e119500d4098"
      },
      "execution_count": 24,
      "outputs": [
        {
          "output_type": "stream",
          "name": "stdout",
          "text": [
            "1/1 [==============================] - 0s 24ms/step\n",
            "Predicted class: Tomato_Early_blight\n",
            "Confidence: 98.22%\n"
          ]
        }
      ]
    },
    {
      "cell_type": "code",
      "source": [],
      "metadata": {
        "id": "mVi4h0Spl_0J"
      },
      "execution_count": null,
      "outputs": []
    }
  ]
}